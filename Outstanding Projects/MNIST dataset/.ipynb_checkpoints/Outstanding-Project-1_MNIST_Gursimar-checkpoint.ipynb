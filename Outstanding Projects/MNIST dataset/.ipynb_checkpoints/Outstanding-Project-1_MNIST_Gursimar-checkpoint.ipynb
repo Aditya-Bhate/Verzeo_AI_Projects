{
 "cells": [
  {
   "cell_type": "markdown",
   "metadata": {},
   "source": [
    "# MNIST\n",
    "Importing libraries and shifting to GPU"
   ]
  },
  {
   "cell_type": "code",
   "execution_count": 1,
   "metadata": {},
   "outputs": [],
   "source": [
    "#libraries required to make model\n",
    "import tensorflow as tf   \n",
    "from tensorflow import keras\n",
    "import PIL"
   ]
  },
  {
   "cell_type": "code",
   "execution_count": 2,
   "metadata": {},
   "outputs": [
    {
     "name": "stdout",
     "output_type": "stream",
     "text": [
      "No. of GPUs Available:  1\n"
     ]
    }
   ],
   "source": [
    "physical_device=tf.config.experimental.list_physical_devices('GPU')\n",
    "print(\"No. of GPUs Available: \",len(physical_device))\n",
    "tf.config.experimental.set_memory_growth(physical_device[0],True)"
   ]
  },
  {
   "cell_type": "code",
   "execution_count": 3,
   "metadata": {},
   "outputs": [],
   "source": [
    "import pandas as pd\n",
    "import numpy as np\n",
    "import warnings\n",
    "import matplotlib.pyplot as plt\n",
    "\n",
    "from keras.models import Sequential\n",
    "from keras.layers import Dense, Dropout, Flatten, Activation, BatchNormalization\n",
    "from keras.layers.convolutional import Conv2D, MaxPooling2D\n",
    "from keras.preprocessing.image import ImageDataGenerator\n",
    "from keras.utils import plot_model\n",
    "from keras.callbacks import EarlyStopping"
   ]
  },
  {
   "cell_type": "code",
   "execution_count": 4,
   "metadata": {},
   "outputs": [],
   "source": [
    "pd.set_option('display.max_rows', 1000)\n",
    "warnings.filterwarnings(\"ignore\")\n",
    "\n",
    "dftrain = pd.read_csv('D:/Outstanding Project/cnn/train.csv')\n",
    "dftest = pd.read_csv('D:/Outstanding Project/cnn/test.csv')"
   ]
  },
  {
   "cell_type": "markdown",
   "metadata": {},
   "source": [
    "#### Loading Data, Visualization, and Preprocessing\n",
    "The values for all numbers come out to be pretty similar so it is improbable that the model will have a bias for a specific number. There weren't any null or missing values. The following steps involve reshaping the image to the desired format(28,28),  amd normalizing the data for better prediction."
   ]
  },
  {
   "cell_type": "code",
   "execution_count": 14,
   "metadata": {},
   "outputs": [
    {
     "data": {
      "text/plain": [
       "1    4684\n",
       "7    4401\n",
       "3    4351\n",
       "9    4188\n",
       "2    4177\n",
       "6    4137\n",
       "0    4132\n",
       "4    4072\n",
       "8    4063\n",
       "5    3795\n",
       "Name: label, dtype: int64"
      ]
     },
     "execution_count": 14,
     "metadata": {},
     "output_type": "execute_result"
    },
    {
     "data": {
      "image/png": "[encoded data removed]",
      "text/plain": [
       "<Figure size 432x288 with 1 Axes>"
      ]
     },
     "metadata": {
      "needs_background": "light"
     },
     "output_type": "display_data"
    }
   ],
   "source": [
    "import seaborn as sns\n",
    "Y_train = dftrain[\"label\"]\n",
    "\n",
    "# Drop 'label' column\n",
    "X_train = dftrain.drop(labels = [\"label\"],axis = 1) \n",
    "\n",
    "g = sns.countplot(Y_train)\n",
    "\n",
    "Y_train.value_counts()"
   ]
  },
  {
   "cell_type": "code",
   "execution_count": 15,
   "metadata": {},
   "outputs": [
    {
     "data": {
      "text/plain": [
       "count       784\n",
       "unique        1\n",
       "top       False\n",
       "freq        784\n",
       "dtype: object"
      ]
     },
     "execution_count": 15,
     "metadata": {},
     "output_type": "execute_result"
    }
   ],
   "source": [
    "X_train.isnull().any().describe()"
   ]
  },
  {
   "cell_type": "code",
   "execution_count": 16,
   "metadata": {},
   "outputs": [
    {
     "data": {
      "text/plain": [
       "count       784\n",
       "unique        1\n",
       "top       False\n",
       "freq        784\n",
       "dtype: object"
      ]
     },
     "execution_count": 16,
     "metadata": {},
     "output_type": "execute_result"
    }
   ],
   "source": [
    "dftest.isnull().any().describe()\n",
    "#no null values"
   ]
  },
  {
   "cell_type": "code",
   "execution_count": 5,
   "metadata": {},
   "outputs": [],
   "source": [
    "IMG_SIZE = 28\n",
    "\n",
    "x_train = dftrain.iloc[:,1:]\n",
    "x_train = x_train.values.reshape(-1, IMG_SIZE, IMG_SIZE, 1)\n",
    "y_train = dftrain.iloc[:,0]\n",
    "x_test = dftest\n",
    "x_test = x_test.values.reshape(-1, IMG_SIZE, IMG_SIZE, 1)\n",
    "x_train = x_train/255.0\n",
    "x_test = x_test/255.0"
   ]
  },
  {
   "cell_type": "markdown",
   "metadata": {},
   "source": [
    "###### Example of an Image"
   ]
  },
  {
   "cell_type": "code",
   "execution_count": 21,
   "metadata": {},
   "outputs": [
    {
     "data": {
      "image/png": "[encoded data removed]",
      "text/plain": [
       "<Figure size 432x288 with 1 Axes>"
      ]
     },
     "metadata": {
      "needs_background": "light"
     },
     "output_type": "display_data"
    }
   ],
   "source": [
    "g = plt.imshow(x_train[1][:,:,0])"
   ]
  },
  {
   "cell_type": "markdown",
   "metadata": {},
   "source": [
    "### Sequential CNN Model\n",
    "We have used Sequential API which helps us define the model in a step by step manner.\n",
    "\n",
    "Convolutional neural networks apply a filter to an input to create a feature map that summarizes the presence of detected features in the input. The Conv layer is the core building block of a Convolutional Network that does most of the computational heavy lifting. In simple terms, we are just taking a small window and picking up samples from the image.\n",
    "\n",
    "Every Convulution is layer is followed by a layer for batch normalization and a layer for relu activation. The rectified linear activation function or ReLU for short is a piecewise linear function that will output the input directly if it is positive, otherwise, it will output zero. ReLU is important because it does not saturate; the gradient is always high (equal to 1) if the neuron activates. As long as it is not a dead neuron, successive updates are fairly effective. ReLU is also very quick to evaluate.\n",
    "\n",
    "Batch normalization is a method used to make artificial neural networks faster and more stable through normalization of the input layer by re-centering and re-scaling. Basically this is used for accelerating the whole process.\n",
    "\n",
    "The pooling operation involves sliding a two-dimensional filter over each channel of feature map and summarising the features lying within the region covered by the filter. It reducea the dimensions of the feature maps, thereby reducing the trainable parameters. As further operations are performed on summarised features instead of precisely positioned features generated by the convolution layer, the model becomes more robust.\n",
    "\n",
    "The dense layer is given the value of 10 as we have 10 labels in our dataset\n",
    "Dropout is being used for optimization. It is a regularization technique in which we ommit units randomly to reduce the chances of overfitting of a model.\n",
    "Softmax is being used for the final activation layer as it “returns a probability distribution over the target classes in a multiclass classification problem”"
   ]
  },
  {
   "cell_type": "code",
   "execution_count": 6,
   "metadata": {},
   "outputs": [],
   "source": [
    "earlystopping = EarlyStopping(monitor =\"val_accuracy\",\n",
    "                              mode = 'auto', patience = 10,\n",
    "                              restore_best_weights = True)\n",
    "\n",
    "\n",
    "\n",
    "model = Sequential()\n",
    "\n",
    "model.add(Conv2D(128, (3, 3), input_shape = x_train.shape[1:]))\n",
    "model.add(BatchNormalization())\n",
    "model.add(Activation(\"relu\"))\n",
    "model.add(MaxPooling2D(pool_size=(2, 2)))\n",
    "model.add(Dropout(0.3))\n",
    "\n",
    "model.add(Conv2D(256, (3, 3)))\n",
    "model.add(BatchNormalization())\n",
    "model.add(Activation('relu'))\n",
    "model.add(MaxPooling2D(pool_size=(2, 2)))\n",
    "model.add(Dropout(0.3))\n",
    "\n",
    "\n",
    "model.add(Flatten())\n",
    "\n",
    "model.add(Dense(512))\n",
    "model.add(BatchNormalization())\n",
    "model.add(Activation('relu'))\n",
    "model.add(Dropout(0.5))\n",
    "\n",
    "\n",
    "model.add(Dense(10, activation='softmax'))"
   ]
  },
  {
   "cell_type": "code",
   "execution_count": 7,
   "metadata": {},
   "outputs": [
    {
     "name": "stdout",
     "output_type": "stream",
     "text": [
      "Model: \"sequential\"\n",
      "_________________________________________________________________\n",
      "Layer (type)                 Output Shape              Param #   \n",
      "=================================================================\n",
      "conv2d (Conv2D)              (None, 26, 26, 128)       1280      \n",
      "_________________________________________________________________\n",
      "batch_normalization (BatchNo (None, 26, 26, 128)       512       \n",
      "_________________________________________________________________\n",
      "activation (Activation)      (None, 26, 26, 128)       0         \n",
      "_________________________________________________________________\n",
      "max_pooling2d (MaxPooling2D) (None, 13, 13, 128)       0         \n",
      "_________________________________________________________________\n",
      "dropout (Dropout)            (None, 13, 13, 128)       0         \n",
      "_________________________________________________________________\n",
      "conv2d_1 (Conv2D)            (None, 11, 11, 256)       295168    \n",
      "_________________________________________________________________\n",
      "batch_normalization_1 (Batch (None, 11, 11, 256)       1024      \n",
      "_________________________________________________________________\n",
      "activation_1 (Activation)    (None, 11, 11, 256)       0         \n",
      "_________________________________________________________________\n",
      "max_pooling2d_1 (MaxPooling2 (None, 5, 5, 256)         0         \n",
      "_________________________________________________________________\n",
      "dropout_1 (Dropout)          (None, 5, 5, 256)         0         \n",
      "_________________________________________________________________\n",
      "flatten (Flatten)            (None, 6400)              0         \n",
      "_________________________________________________________________\n",
      "dense (Dense)                (None, 512)               3277312   \n",
      "_________________________________________________________________\n",
      "batch_normalization_2 (Batch (None, 512)               2048      \n",
      "_________________________________________________________________\n",
      "activation_2 (Activation)    (None, 512)               0         \n",
      "_________________________________________________________________\n",
      "dropout_2 (Dropout)          (None, 512)               0         \n",
      "_________________________________________________________________\n",
      "dense_1 (Dense)              (None, 10)                5130      \n",
      "=================================================================\n",
      "Total params: 3,582,474\n",
      "Trainable params: 3,580,682\n",
      "Non-trainable params: 1,792\n",
      "_________________________________________________________________\n"
     ]
    }
   ],
   "source": [
    "model.summary()"
   ]
  },
  {
   "cell_type": "markdown",
   "metadata": {},
   "source": [
    "###  Loss Function and Optimizer¶\n",
    "We have used adam for optimizaion. It is bit different from the textbook, gradient descent. Gradient descent maintains a single learning rate for all weight updates but Adam allows us to add decay which slows down the learning rate. As we move closer to our optimized value the incresed decay helps as it causes less deviation in the weights.\n",
    "\n",
    "Loss function being used here is called categorical crossentropy as it gave better results. I trained it to 100 epochs just because I had earlystopping added with validation_accuracy as the metric."
   ]
  },
  {
   "cell_type": "code",
   "execution_count": 8,
   "metadata": {},
   "outputs": [
    {
     "name": "stdout",
     "output_type": "stream",
     "text": [
      "Epoch 1/100\n",
      "1050/1050 [==============================] - 9s 9ms/step - loss: 0.1630 - accuracy: 0.9486 - val_loss: 0.0444 - val_accuracy: 0.9861\n",
      "Epoch 2/100\n",
      "1050/1050 [==============================] - 9s 9ms/step - loss: 0.0781 - accuracy: 0.9747 - val_loss: 0.0444 - val_accuracy: 0.9861\n",
      "Epoch 3/100\n",
      "1050/1050 [==============================] - 9s 9ms/step - loss: 0.0613 - accuracy: 0.9812 - val_loss: 0.0460 - val_accuracy: 0.9873\n",
      "Epoch 4/100\n",
      "1050/1050 [==============================] - 9s 9ms/step - loss: 0.0574 - accuracy: 0.9815 - val_loss: 0.0384 - val_accuracy: 0.9890\n",
      "Epoch 5/100\n",
      "1050/1050 [==============================] - 9s 9ms/step - loss: 0.0492 - accuracy: 0.9842 - val_loss: 0.0374 - val_accuracy: 0.9894\n",
      "Epoch 6/100\n",
      "1050/1050 [==============================] - 9s 9ms/step - loss: 0.0424 - accuracy: 0.9859 - val_loss: 0.0400 - val_accuracy: 0.9880\n",
      "Epoch 7/100\n",
      "1050/1050 [==============================] - 9s 9ms/step - loss: 0.0397 - accuracy: 0.9867 - val_loss: 0.0292 - val_accuracy: 0.9920\n",
      "Epoch 8/100\n",
      "1050/1050 [==============================] - 9s 9ms/step - loss: 0.0363 - accuracy: 0.9882 - val_loss: 0.0360 - val_accuracy: 0.9905\n",
      "Epoch 9/100\n",
      "1050/1050 [==============================] - 9s 9ms/step - loss: 0.0343 - accuracy: 0.9893 - val_loss: 0.0286 - val_accuracy: 0.9923\n",
      "Epoch 10/100\n",
      "1050/1050 [==============================] - 9s 9ms/step - loss: 0.0286 - accuracy: 0.9904 - val_loss: 0.0312 - val_accuracy: 0.9910\n",
      "Epoch 11/100\n",
      "1050/1050 [==============================] - 9s 9ms/step - loss: 0.0264 - accuracy: 0.9914 - val_loss: 0.0268 - val_accuracy: 0.9933\n",
      "Epoch 12/100\n",
      "1050/1050 [==============================] - 9s 9ms/step - loss: 0.0243 - accuracy: 0.9920 - val_loss: 0.0354 - val_accuracy: 0.9902\n",
      "Epoch 13/100\n",
      "1050/1050 [==============================] - 9s 9ms/step - loss: 0.0248 - accuracy: 0.9918 - val_loss: 0.0308 - val_accuracy: 0.9924\n",
      "Epoch 14/100\n",
      "1050/1050 [==============================] - 9s 9ms/step - loss: 0.0241 - accuracy: 0.9918 - val_loss: 0.0347 - val_accuracy: 0.9917\n",
      "Epoch 15/100\n",
      "1050/1050 [==============================] - 9s 9ms/step - loss: 0.0195 - accuracy: 0.9935 - val_loss: 0.0300 - val_accuracy: 0.9920\n",
      "Epoch 16/100\n",
      "1050/1050 [==============================] - 9s 9ms/step - loss: 0.0211 - accuracy: 0.9933 - val_loss: 0.0272 - val_accuracy: 0.9932\n",
      "Epoch 17/100\n",
      "1050/1050 [==============================] - 9s 9ms/step - loss: 0.0166 - accuracy: 0.9942 - val_loss: 0.0275 - val_accuracy: 0.9924\n",
      "Epoch 18/100\n",
      "1050/1050 [==============================] - 9s 9ms/step - loss: 0.0174 - accuracy: 0.9940 - val_loss: 0.0288 - val_accuracy: 0.9930\n",
      "Epoch 19/100\n",
      "1050/1050 [==============================] - 9s 9ms/step - loss: 0.0170 - accuracy: 0.9940 - val_loss: 0.0340 - val_accuracy: 0.9915\n",
      "Epoch 20/100\n",
      "1050/1050 [==============================] - 9s 9ms/step - loss: 0.0150 - accuracy: 0.9949 - val_loss: 0.0293 - val_accuracy: 0.9929\n",
      "Epoch 21/100\n",
      "1050/1050 [==============================] - 9s 9ms/step - loss: 0.0145 - accuracy: 0.9949 - val_loss: 0.0331 - val_accuracy: 0.9935\n",
      "Epoch 22/100\n",
      "1050/1050 [==============================] - 9s 9ms/step - loss: 0.0138 - accuracy: 0.9954 - val_loss: 0.0308 - val_accuracy: 0.9935\n",
      "Epoch 23/100\n",
      "1050/1050 [==============================] - 9s 9ms/step - loss: 0.0146 - accuracy: 0.9953 - val_loss: 0.0316 - val_accuracy: 0.9935\n",
      "Epoch 24/100\n",
      "1050/1050 [==============================] - 9s 9ms/step - loss: 0.0148 - accuracy: 0.9947 - val_loss: 0.0280 - val_accuracy: 0.9938\n",
      "Epoch 25/100\n",
      "1050/1050 [==============================] - 9s 9ms/step - loss: 0.0140 - accuracy: 0.9955 - val_loss: 0.0331 - val_accuracy: 0.9929\n",
      "Epoch 26/100\n",
      "1050/1050 [==============================] - 9s 9ms/step - loss: 0.0114 - accuracy: 0.9961 - val_loss: 0.0393 - val_accuracy: 0.9930\n",
      "Epoch 27/100\n",
      "1050/1050 [==============================] - 9s 9ms/step - loss: 0.0128 - accuracy: 0.9959 - val_loss: 0.0336 - val_accuracy: 0.9923\n",
      "Epoch 28/100\n",
      "1050/1050 [==============================] - 9s 9ms/step - loss: 0.0106 - accuracy: 0.9965 - val_loss: 0.0352 - val_accuracy: 0.9929\n",
      "Epoch 29/100\n",
      "1050/1050 [==============================] - 9s 9ms/step - loss: 0.0131 - accuracy: 0.9958 - val_loss: 0.0311 - val_accuracy: 0.9927\n",
      "Epoch 30/100\n",
      "1050/1050 [==============================] - 9s 9ms/step - loss: 0.0093 - accuracy: 0.9969 - val_loss: 0.0265 - val_accuracy: 0.9939\n",
      "Epoch 31/100\n",
      "1050/1050 [==============================] - 9s 9ms/step - loss: 0.0103 - accuracy: 0.9969 - val_loss: 0.0297 - val_accuracy: 0.9935\n",
      "Epoch 32/100\n",
      "1050/1050 [==============================] - 9s 9ms/step - loss: 0.0136 - accuracy: 0.9957 - val_loss: 0.0287 - val_accuracy: 0.9930\n",
      "Epoch 33/100\n",
      "1050/1050 [==============================] - 9s 9ms/step - loss: 0.0100 - accuracy: 0.9962 - val_loss: 0.0365 - val_accuracy: 0.9931\n",
      "Epoch 34/100\n",
      "1050/1050 [==============================] - 9s 9ms/step - loss: 0.0103 - accuracy: 0.9968 - val_loss: 0.0305 - val_accuracy: 0.9933\n",
      "Epoch 35/100\n",
      "1050/1050 [==============================] - 9s 9ms/step - loss: 0.0083 - accuracy: 0.9973 - val_loss: 0.0297 - val_accuracy: 0.9935\n",
      "Epoch 36/100\n",
      "1050/1050 [==============================] - 10s 9ms/step - loss: 0.0111 - accuracy: 0.9967 - val_loss: 0.0341 - val_accuracy: 0.9932\n",
      "Epoch 37/100\n",
      "1050/1050 [==============================] - 9s 9ms/step - loss: 0.0098 - accuracy: 0.9967 - val_loss: 0.0307 - val_accuracy: 0.9931\n",
      "Epoch 38/100\n",
      "1050/1050 [==============================] - 9s 9ms/step - loss: 0.0099 - accuracy: 0.9965 - val_loss: 0.0318 - val_accuracy: 0.9935\n",
      "Epoch 39/100\n",
      "1050/1050 [==============================] - 9s 9ms/step - loss: 0.0089 - accuracy: 0.9971 - val_loss: 0.0326 - val_accuracy: 0.9930\n",
      "Epoch 40/100\n",
      "1050/1050 [==============================] - 9s 9ms/step - loss: 0.0073 - accuracy: 0.9974 - val_loss: 0.0321 - val_accuracy: 0.9935\n"
     ]
    }
   ],
   "source": [
    "model.compile(optimizer = 'adam',\n",
    "  loss = 'sparse_categorical_crossentropy',\n",
    "  metrics = ['accuracy'])\n",
    "\n",
    "EPOCHS = 100\n",
    "\n",
    "history = model.fit(x_train, y_train, epochs=EPOCHS, batch_size=32, validation_split=0.2, callbacks=[earlystopping])"
   ]
  },
  {
   "cell_type": "markdown",
   "metadata": {},
   "source": [
    "### Visualiztion\n",
    "Validation accuracy is around 99.4% which is pretty good. If we look at the loss curve and the accuracy curve we can see that they change quickly and their rate of change decreases with time which is desirable "
   ]
  },
  {
   "cell_type": "code",
   "execution_count": 9,
   "metadata": {},
   "outputs": [
    {
     "name": "stdout",
     "output_type": "stream",
     "text": [
      "Max. Validation Accuracy: 99.39%\n"
     ]
    }
   ],
   "source": [
    "print(\"Max. Validation Accuracy: {}%\".format(round(100*max(history.history['val_accuracy']), 2)))"
   ]
  },
  {
   "cell_type": "code",
   "execution_count": 24,
   "metadata": {},
   "outputs": [
    {
     "data": {
      "image/png": "[encoded data removed]",
      "text/plain": [
       "<Figure size 432x288 with 2 Axes>"
      ]
     },
     "metadata": {
      "needs_background": "light"
     },
     "output_type": "display_data"
    }
   ],
   "source": [
    "# Plot the loss and accuracy curves for training and validation \n",
    "fig, ax = plt.subplots(2,1)\n",
    "ax[0].plot(history.history['loss'], color='b', label=\"Training loss\")\n",
    "ax[0].plot(history.history['val_loss'], color='r', label=\"validation loss\",axes =ax[0])\n",
    "legend = ax[0].legend(loc='best', shadow=True)\n",
    "\n",
    "ax[1].plot(history.history['accuracy'], color='b', label=\"Training accuracy\")\n",
    "ax[1].plot(history.history['val_accuracy'], color='r',label=\"Validation accuracy\")\n",
    "legend = ax[1].legend(loc='best', shadow=True)"
   ]
  },
  {
   "cell_type": "markdown",
   "metadata": {},
   "source": [
    "#### Predictions for the test set"
   ]
  },
  {
   "cell_type": "code",
   "execution_count": 10,
   "metadata": {},
   "outputs": [],
   "source": [
    "predictions = model.predict([x_test])\n",
    "solutions = []\n",
    "for i in range(len(predictions)):\n",
    "    solutions.append(np.argmax(predictions[i]))"
   ]
  },
  {
   "cell_type": "code",
   "execution_count": 11,
   "metadata": {},
   "outputs": [],
   "source": [
    "final = pd.DataFrame()\n",
    "final['ImageId']=[i+1 for i in dftest.index]\n",
    "final['Label']=solutions\n",
    "final.to_csv('submission.csv', index=False)"
   ]
  },
  {
   "cell_type": "markdown",
   "metadata": {},
   "source": [
    "#### Confusion matrix\n",
    "Just split the training data to get random data for confusion matrix. Although we know that our model isnt overfitting because test accuracy is pretty close to train accuracy, Confusion Matrix is a goodway to look for errors in our model. The confusion matrix informs us that we had 16 incorrect predictions, if we have a look at few of them, we will realize that the model is performing well as most of the incorrect predictions are ambiguous in nature.\n",
    "######  PS: Look at the last image "
   ]
  },
  {
   "cell_type": "code",
   "execution_count": 31,
   "metadata": {},
   "outputs": [],
   "source": [
    "from sklearn.model_selection import train_test_split\n",
    "x_cfd, x_cf, y_cfd, y_cf = train_test_split(x_train, y_train, test_size = 0.3, random_state=2)"
   ]
  },
  {
   "cell_type": "code",
   "execution_count": 49,
   "metadata": {},
   "outputs": [
    {
     "data": {
      "image/png": "[encoded data removed]",
      "text/plain": [
       "<Figure size 432x288 with 2 Axes>"
      ]
     },
     "metadata": {
      "needs_background": "light"
     },
     "output_type": "display_data"
    }
   ],
   "source": [
    "# Look at confusion matrix \n",
    "from sklearn.metrics import confusion_matrix\n",
    "import itertools\n",
    "def plot_confusion_matrix(cm, classes,\n",
    "                          normalize=False,\n",
    "                          title='Confusion matrix',\n",
    "                          cmap=plt.cm.Blues):\n",
    "    \"\"\"\n",
    "    This function prints and plots the confusion matrix.\n",
    "    Normalization can be applied by setting `normalize=True`.\n",
    "    \"\"\"\n",
    "    plt.imshow(cm, interpolation='nearest', cmap=cmap)\n",
    "    plt.title(title)\n",
    "    plt.colorbar()\n",
    "    tick_marks = np.arange(len(classes))\n",
    "    plt.xticks(tick_marks, classes, rotation=45)\n",
    "    plt.yticks(tick_marks, classes)\n",
    "\n",
    "    if normalize:\n",
    "        cm = cm.astype('float') / cm.sum(axis=1)[:, np.newaxis]\n",
    "        \n",
    "    thresh = cm.max() / 2.\n",
    "    for i, j in itertools.product(range(cm.shape[0]), range(cm.shape[1])):\n",
    "        plt.text(j, i, cm[i, j],\n",
    "                 horizontalalignment=\"center\",\n",
    "                 color=\"white\" if cm[i, j] > thresh else \"black\")\n",
    "\n",
    "    plt.tight_layout()\n",
    "    plt.ylabel('True label')\n",
    "    plt.xlabel('Predicted label')\n",
    "\n",
    "# Predict the values from the validation dataset\n",
    "Y_pred = model.predict(x_cf)\n",
    "# Convert predictions classes to one hot vectors \n",
    "Y_pred_classes = np.argmax(Y_pred,axis = 1) \n",
    "# Convert validation observations to one hot vectors\n",
    "Y_true = y_cf\n",
    "# compute the confusion matrix\n",
    "confusion_mtx = confusion_matrix(Y_true, Y_pred_classes) \n",
    "# plot the confusion matrix\n",
    "plot_confusion_matrix(confusion_mtx, classes = range(10)) "
   ]
  },
  {
   "cell_type": "code",
   "execution_count": 124,
   "metadata": {},
   "outputs": [
    {
     "data": {
      "image/png": "[encoded data removed]",
      "text/plain": [
       "<Figure size 432x288 with 6 Axes>"
      ]
     },
     "metadata": {
      "needs_background": "light"
     },
     "output_type": "display_data"
    }
   ],
   "source": [
    "# Display some error results \n",
    "\n",
    "# Errors are difference between predicted labels and true labels\n",
    "errors = (Y_pred_classes - Y_true != 0)\n",
    "\n",
    "Y_pred_classes_errors = Y_pred_classes[errors]\n",
    "Y_pred_errors = Y_pred[errors]\n",
    "Y_true_errors = Y_true[errors]\n",
    "X_val_errors = x_cf[errors]\n",
    "Y_true_errors_duplicate=[3,6,8,9,8,9,7,9,9,4,3,9,3,9,9,8]\n",
    "def display_errors(errors_index,img_errors,pred_errors, obs_errors):\n",
    "    \"\"\" This function shows 6 images with their predicted and real labels\"\"\"\n",
    "    n = 0\n",
    "    nrows = 2\n",
    "    ncols = 3\n",
    "    fig, ax = plt.subplots(nrows,ncols,sharex=True,sharey=True)\n",
    "    for row in range(nrows):\n",
    "        for col in range(ncols):\n",
    "            error = errors_index[n]\n",
    "            ax[row,col].imshow((img_errors[error]).reshape((28,28)))\n",
    "            ax[row,col].set_title(\"Predicted label :{}\".format(pred_errors[error])+\"\\nTrue label :{}\".format(obs_errors[error]))\n",
    "            n += 1\n",
    "    fig.tight_layout()\n",
    "            \n",
    "# Probabilities of the wrong predicted numbers\n",
    "Y_pred_errors_prob = np.max(Y_pred_errors,axis = 1)\n",
    "\n",
    "# Predicted probabilities of the true values in the error set\n",
    "true_prob_errors = np.diagonal(np.take(Y_pred_errors, Y_true_errors, axis=1))\n",
    "\n",
    "# Difference between the probability of the predicted label and the true label\n",
    "delta_pred_true_errors = Y_pred_errors_prob - true_prob_errors\n",
    "\n",
    "# Sorted list of the delta prob errors\n",
    "sorted_dela_errors = np.argsort(delta_pred_true_errors)\n",
    "\n",
    "# Top 6 errors \n",
    "most_important_errors = sorted_dela_errors[-6:]\n",
    "\n",
    "# Show the top 6 errors\n",
    "display_errors(most_important_errors, X_val_errors, Y_pred_classes_errors,Y_true_errors_duplicate)\n"
   ]
  }
 ],
 "metadata": {
  "kernelspec": {
   "display_name": "tf_env",
   "language": "python",
   "name": "tf_env"
  },
  "language_info": {
   "codemirror_mode": {
    "name": "ipython",
    "version": 3
   },
   "file_extension": ".py",
   "mimetype": "text/x-python",
   "name": "python",
   "nbconvert_exporter": "python",
   "pygments_lexer": "ipython3",
   "version": "3.7.7"
  }
 },
 "nbformat": 4,
 "nbformat_minor": 4
}
